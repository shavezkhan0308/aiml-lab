{
 "cells": [
  {
   "cell_type": "code",
   "execution_count": 14,
   "id": "38ac3f7d",
   "metadata": {},
   "outputs": [
    {
     "ename": "FileNotFoundError",
     "evalue": "[Errno 2] No such file or directory: 'data21_shape.csv'",
     "output_type": "error",
     "traceback": [
      "\u001b[1;31m---------------------------------------------------------------------------\u001b[0m",
      "\u001b[1;31mFileNotFoundError\u001b[0m                         Traceback (most recent call last)",
      "Cell \u001b[1;32mIn [14], line 7\u001b[0m\n\u001b[0;32m      5\u001b[0m gen\u001b[38;5;241m=\u001b[39m[]\n\u001b[0;32m      6\u001b[0m sef\u001b[38;5;241m=\u001b[39m[]\n\u001b[1;32m----> 7\u001b[0m \u001b[38;5;28;01mwith\u001b[39;00m \u001b[38;5;28;43mopen\u001b[39;49m\u001b[43m(\u001b[49m\u001b[38;5;124;43m'\u001b[39;49m\u001b[38;5;124;43mdata21_shape.csv\u001b[39;49m\u001b[38;5;124;43m'\u001b[39;49m\u001b[43m)\u001b[49m \u001b[38;5;28;01mas\u001b[39;00m csv_file:\n\u001b[0;32m      8\u001b[0m      fd \u001b[38;5;241m=\u001b[39m csv\u001b[38;5;241m.\u001b[39mreader(csv_file)\n\u001b[0;32m      9\u001b[0m      \u001b[38;5;28mprint\u001b[39m(\u001b[38;5;124m\"\u001b[39m\u001b[38;5;130;01m\\n\u001b[39;00m\u001b[38;5;124mThe given training examples are:\u001b[39m\u001b[38;5;124m\"\u001b[39m)\n",
      "File \u001b[1;32m~\\AppData\\Local\\Programs\\Python\\Python311\\Lib\\site-packages\\IPython\\core\\interactiveshell.py:282\u001b[0m, in \u001b[0;36m_modified_open\u001b[1;34m(file, *args, **kwargs)\u001b[0m\n\u001b[0;32m    275\u001b[0m \u001b[38;5;28;01mif\u001b[39;00m file \u001b[38;5;129;01min\u001b[39;00m {\u001b[38;5;241m0\u001b[39m, \u001b[38;5;241m1\u001b[39m, \u001b[38;5;241m2\u001b[39m}:\n\u001b[0;32m    276\u001b[0m     \u001b[38;5;28;01mraise\u001b[39;00m \u001b[38;5;167;01mValueError\u001b[39;00m(\n\u001b[0;32m    277\u001b[0m         \u001b[38;5;124mf\u001b[39m\u001b[38;5;124m\"\u001b[39m\u001b[38;5;124mIPython won\u001b[39m\u001b[38;5;124m'\u001b[39m\u001b[38;5;124mt let you open fd=\u001b[39m\u001b[38;5;132;01m{\u001b[39;00mfile\u001b[38;5;132;01m}\u001b[39;00m\u001b[38;5;124m by default \u001b[39m\u001b[38;5;124m\"\u001b[39m\n\u001b[0;32m    278\u001b[0m         \u001b[38;5;124m\"\u001b[39m\u001b[38;5;124mas it is likely to crash IPython. If you know what you are doing, \u001b[39m\u001b[38;5;124m\"\u001b[39m\n\u001b[0;32m    279\u001b[0m         \u001b[38;5;124m\"\u001b[39m\u001b[38;5;124myou can use builtins\u001b[39m\u001b[38;5;124m'\u001b[39m\u001b[38;5;124m open.\u001b[39m\u001b[38;5;124m\"\u001b[39m\n\u001b[0;32m    280\u001b[0m     )\n\u001b[1;32m--> 282\u001b[0m \u001b[38;5;28;01mreturn\u001b[39;00m \u001b[43mio_open\u001b[49m\u001b[43m(\u001b[49m\u001b[43mfile\u001b[49m\u001b[43m,\u001b[49m\u001b[43m \u001b[49m\u001b[38;5;241;43m*\u001b[39;49m\u001b[43margs\u001b[49m\u001b[43m,\u001b[49m\u001b[43m \u001b[49m\u001b[38;5;241;43m*\u001b[39;49m\u001b[38;5;241;43m*\u001b[39;49m\u001b[43mkwargs\u001b[49m\u001b[43m)\u001b[49m\n",
      "\u001b[1;31mFileNotFoundError\u001b[0m: [Errno 2] No such file or directory: 'data21_shape.csv'"
     ]
    }
   ],
   "source": [
    "import csv\n",
    "hypo=[]\n",
    "data=[]\n",
    "temp=[]\n",
    "gen=[]\n",
    "sef=[]\n",
    "with open('data21_shape.csv') as csv_file:\n",
    "     fd = csv.reader(csv_file)\n",
    "     print(\"\\nThe given training examples are:\")\n",
    "for line in fd:\n",
    "     print(line)\n",
    "temp.append(line)\n",
    "if line[-1]== \"Y\":\n",
    "    data.append(line)\n",
    "    print(\"\\nThe positive examples are: Enjoy swimming\");\n",
    "for line in data:\n",
    "    print(line);\n",
    "    row= len(data);\n",
    "    col=len(data[0]);\n",
    "    print(\"\\nThe final specific output......................\");\n",
    "for j in range(col-1):\n",
    "    hypo.append(data[0][j]);\n",
    "for i in range(row):\n",
    "    for j in range(col-1):\n",
    "         if (hypo[j]!=data[i][j]):\n",
    "            hypo[j]='?'\n",
    "            print(hypo)\n",
    "            print(\"\\nThe final Genralize output..................\");\n",
    "            row=len(temp)\n",
    "for i in range(row):\n",
    "        if temp[i][-1]==\"N\":\n",
    "            for j in range(col-1):\n",
    "                if temp[i][j] !=hypo[j] and hypo[j] != '?':\n",
    "                    gen = ['?','?','?','?','?','?']\n",
    "                    gen[j]=hypo[j]\n",
    "                    sef.append(gen) \n",
    "                    print(sef)\n",
    "Outlook,Temperature,Humidity,Wind,Target\n",
    "sunny,hot,high,weak,no \n",
    "sunny,hot,high,strong,no \n",
    "overcast,hot,high,weak,yes \n",
    "rain,mild,high,weak,yes \n",
    "rain,cool,normal,weak,yes \n",
    "rain,cool,normal,strong,no \n",
    "overcast,cool,normal,strong,yes \n",
    "sunny,mild,high,weak,no \n",
    "sunny,cool,normal,weak,yes \n",
    "rain,mild,normal,weak,yes \n",
    "sunny,mild,normal,strong,yes \n",
    "overcast,mild,high,strong,yes \n",
    "overcast,hot,normal,weak,yes \n",
    "rain,mild,high,strong,no\n",
    "\n",
    "\n",
    "Outlook,Temperature,Humidity,Wind\n",
    "rain,mild,normal,strong\n"
   ]
  },
  {
   "cell_type": "code",
   "execution_count": null,
   "id": "26156287",
   "metadata": {},
   "outputs": [],
   "source": []
  },
  {
   "cell_type": "code",
   "execution_count": null,
   "id": "af4e9700",
   "metadata": {},
   "outputs": [],
   "source": []
  },
  {
   "cell_type": "code",
   "execution_count": null,
   "id": "5cbf5c0f",
   "metadata": {},
   "outputs": [],
   "source": []
  }
 ],
 "metadata": {
  "kernelspec": {
   "display_name": "Python 3 (ipykernel)",
   "language": "python",
   "name": "python3"
  },
  "language_info": {
   "codemirror_mode": {
    "name": "ipython",
    "version": 3
   },
   "file_extension": ".py",
   "mimetype": "text/x-python",
   "name": "python",
   "nbconvert_exporter": "python",
   "pygments_lexer": "ipython3",
   "version": "3.11.0"
  }
 },
 "nbformat": 4,
 "nbformat_minor": 5
}
