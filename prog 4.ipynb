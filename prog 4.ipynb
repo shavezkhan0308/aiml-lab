{
 "cells": [
  {
   "cell_type": "code",
   "execution_count": 39,
   "id": "f909b4d0",
   "metadata": {},
   "outputs": [
    {
     "ename": "SyntaxError",
     "evalue": "invalid syntax (757346256.py, line 51)",
     "output_type": "error",
     "traceback": [
      "\u001b[1;36m  Cell \u001b[1;32mIn [39], line 51\u001b[1;36m\u001b[0m\n\u001b[1;33m    else:\u001b[0m\n\u001b[1;37m    ^\u001b[0m\n\u001b[1;31mSyntaxError\u001b[0m\u001b[1;31m:\u001b[0m invalid syntax\n"
     ]
    }
   ],
   "source": [
    "import csv\n",
    "import pprint\n",
    "import pandas as pd\n",
    "df_new=pd.read_csv('data3_test.csv')\n",
    "df_new['predicted']=df_new.apply(classify,axis=1 ,args=(tree,'?'))\n",
    "from math import *\n",
    "lines=list(csv.reader(open('data3.csv','r')))\n",
    "data=lines.pop(0)\n",
    "print(data)\n",
    "print()\n",
    "print(lines)\n",
    "def entropy(pos,neg):\n",
    "    if pos==0 or neg==0:\n",
    "        return 0\n",
    "        tot=pos+neg\n",
    "    return -pos/tot*log(pos/tot,2)-neg/tot*log(neg/tot,2)\n",
    "def gain(lines,attr,pos,neg):\n",
    "    d,E,acu={},entropy(pos,neg),0\n",
    "    for i in lines:\n",
    "        if i[attr] not in d:\n",
    "            d[i[attr]]={}\n",
    "            d[i[attr]][i[-1]]=1+d[i[attr]].get(i[-1],0)\n",
    "    for i in d:\n",
    "        tot=d[i].get('yes',0)+d[i].get('no',0)\n",
    "        acu+=tot/(pos+neg)*entropy(d[i].get('yes',0),d[i].get('no',0))\n",
    "    return E-acu\n",
    "def build(lines,data):\n",
    "    pos=len([x for x in lines if x[-1]=='yes'])\n",
    "    sz=len(lines[0])-1\n",
    "    neg=len(lines)-pos\n",
    "    if neg==0 or pos==0:\n",
    "        return 'yes' if neg==0 else 'no'\n",
    "        root=max([[gain(lines,i,pos,neg),i]for i in range(sz)])[1]\n",
    "        fin,res={},{}\n",
    "        uniq_attr=set([x[root] for x in lines])\n",
    "        print(\">>>\",uniq_attr)\n",
    "    for i in uniq_attr:\n",
    "        res[i]=build([x[:root]+x[root+1:] for x in lines if x[root]==i],data[:root]+data[root+1:])\n",
    "        fin[data[root]]=res\n",
    "    return fin\n",
    "    tree=build(lines,data)\n",
    "    pprint.pprint(tree)\n",
    "def classify(instance,tree,default=None):\n",
    "    attribute=next(iter(tree))\n",
    "if instance[attribute] in tree[attribute].keys():\n",
    "        result=tree[attribute][instance[attribute]]\n",
    "if isinstance(result,dict):\n",
    "    return classify(instance,result)\n",
    "else:\n",
    "    return result\n",
    "else:\n",
    "    return default\n",
    "    print(df_new)"
   ]
  },
  {
   "cell_type": "code",
   "execution_count": null,
   "id": "e56c2497",
   "metadata": {},
   "outputs": [],
   "source": []
  },
  {
   "cell_type": "code",
   "execution_count": null,
   "id": "e0c8dbfe",
   "metadata": {},
   "outputs": [],
   "source": []
  },
  {
   "cell_type": "code",
   "execution_count": null,
   "id": "176c51d1",
   "metadata": {},
   "outputs": [],
   "source": []
  },
  {
   "cell_type": "code",
   "execution_count": null,
   "id": "64dfa02e",
   "metadata": {},
   "outputs": [],
   "source": []
  },
  {
   "cell_type": "code",
   "execution_count": null,
   "id": "35c572be",
   "metadata": {},
   "outputs": [],
   "source": []
  },
  {
   "cell_type": "code",
   "execution_count": null,
   "id": "fa23fa36",
   "metadata": {},
   "outputs": [],
   "source": []
  },
  {
   "cell_type": "code",
   "execution_count": null,
   "id": "ecae1ef8",
   "metadata": {},
   "outputs": [],
   "source": []
  }
 ],
 "metadata": {
  "kernelspec": {
   "display_name": "Python 3 (ipykernel)",
   "language": "python",
   "name": "python3"
  },
  "language_info": {
   "codemirror_mode": {
    "name": "ipython",
    "version": 3
   },
   "file_extension": ".py",
   "mimetype": "text/x-python",
   "name": "python",
   "nbconvert_exporter": "python",
   "pygments_lexer": "ipython3",
   "version": "3.11.0"
  }
 },
 "nbformat": 4,
 "nbformat_minor": 5
}
